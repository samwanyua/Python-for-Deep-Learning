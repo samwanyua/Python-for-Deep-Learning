{
 "cells": [
  {
   "cell_type": "markdown",
   "metadata": {},
   "source": [
    "### Deep Neural Networks (DNNs) Explained\n",
    "\n",
    "### Introduction\n",
    "A **Deep Neural Network (DNN)** is an artificial neural network (ANN) with multiple hidden layers between the input and output layers. These networks are capable of learning complex patterns and representations, making them suitable for tasks such as image recognition, natural language processing (NLP), and reinforcement learning.\n",
    "\n",
    "### Structure of a Deep Neural Network\n",
    "A DNN consists of:\n",
    "1. **Input Layer**: Receives the raw input features.\n",
    "2. **Hidden Layers**: Multiple layers of neurons that process and transform the input data through weighted connections and activation functions.\n",
    "3. **Output Layer**: Produces the final predictions or classifications.\n",
    "\n",
    "### Example of a Simple DNN Structure\n",
    "Input → Hidden Layer 1 → Hidden Layer 2 → Hidden Layer 3 → Output\n",
    "\n",
    "\n",
    "### How DNNs Work\n",
    "1. **Forward Propagation**: Inputs pass through the network layer by layer, with each neuron applying a weighted sum followed by an activation function.\n",
    "2. **Activation Functions**: Introduce non-linearity, allowing the network to learn complex relationships.\n",
    "   - Sigmoid\n",
    "   - ReLU (Rectified Linear Unit)\n",
    "   - Tanh\n",
    "   - Softmax (for classification)\n",
    "3. **Loss Function**: Measures the difference between predictions and actual values.\n",
    "   - Mean Squared Error (MSE) for regression\n",
    "   - Cross-entropy for classification\n",
    "4. **Backpropagation**: Computes the gradient of the loss function with respect to weights and updates them using **gradient descent** or an advanced optimizer like Adam or RMSprop.\n",
    "\n",
    "### Key Features of DNNs\n",
    "- **Deep Architectures**: Multiple hidden layers enable hierarchical feature learning.\n",
    "- **Weight Sharing**: Helps in recognizing patterns in different parts of the input.\n",
    "- **Feature Learning**: Unlike traditional machine learning, DNNs automatically extract relevant features from raw data.\n",
    "\n",
    "### Applications of Deep Neural Networks\n",
    "- **Computer Vision**: Image classification (e.g., ResNet, VGG, EfficientNet)\n",
    "- **Natural Language Processing (NLP)**: Sentiment analysis, machine translation (e.g., Transformers, BERT, GPT)\n",
    "- **Speech Recognition**: Voice assistants (e.g., Siri, Google Assistant)\n",
    "- **Healthcare**: Disease detection and medical imaging\n",
    "- **Finance**: Fraud detection and stock market prediction\n",
    "\n",
    "### Advantages of DNNs\n",
    "✔️ Ability to learn complex patterns  \n",
    "✔️ Reduced need for manual feature extraction  \n",
    "✔️ Scalability with large datasets  \n",
    "✔️ High accuracy in various applications  \n",
    "\n",
    "## Challenges of DNNs\n",
    "- Requires a large amount of training data  \n",
    "- Computationally expensive (requires GPUs/TPUs for large-scale models)  \n",
    "- Prone to overfitting without proper regularization  \n",
    "- Difficult to interpret compared to traditional models  \n",
    "\n"
   ]
  },
  {
   "cell_type": "code",
   "execution_count": 2,
   "metadata": {},
   "outputs": [],
   "source": [
    "from keras.models import Sequential\n",
    "from keras.layers import Dense"
   ]
  },
  {
   "cell_type": "code",
   "execution_count": 3,
   "metadata": {},
   "outputs": [],
   "source": [
    "# Define the architecture of the network\n",
    "model = Sequential()\n",
    "model.add(Dense(64, activation='relu', input_dim=100))\n",
    "model.add(Dense(64, activation='relu'))\n",
    "model.add(Dense(1, activation='sigmoid'))\n"
   ]
  },
  {
   "cell_type": "code",
   "execution_count": null,
   "metadata": {},
   "outputs": [],
   "source": []
  }
 ],
 "metadata": {
  "kernelspec": {
   "display_name": "env",
   "language": "python",
   "name": "python3"
  },
  "language_info": {
   "codemirror_mode": {
    "name": "ipython",
    "version": 3
   },
   "file_extension": ".py",
   "mimetype": "text/x-python",
   "name": "python",
   "nbconvert_exporter": "python",
   "pygments_lexer": "ipython3",
   "version": "3.8.10"
  }
 },
 "nbformat": 4,
 "nbformat_minor": 2
}
