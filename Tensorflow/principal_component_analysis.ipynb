{
 "cells": [
  {
   "cell_type": "markdown",
   "metadata": {},
   "source": [
    "### **Principal Component Analysis (PCA)**\n",
    "\n",
    "### **What is PCA?**  \n",
    "Principal Component Analysis (PCA) is a **dimensionality reduction technique** used in machine learning and data analysis. It helps in transforming high-dimensional data into a lower-dimensional form while preserving as much variance as possible.\n",
    "\n",
    "---\n",
    "\n",
    "### **Key Goals of PCA**  \n",
    "1. **Reduce the number of features (dimensions)** while retaining important information.  \n",
    "2. **Remove redundancy and correlation** between features.  \n",
    "3. **Improve computational efficiency** for large datasets.  \n",
    "4. **Visualize high-dimensional data** in 2D or 3D.  \n",
    "\n",
    "---\n",
    "\n",
    "### **How PCA Works (Step-by-Step)**  \n",
    "\n",
    "1. **Standardization of Data**  \n",
    "   - Convert all features to have a mean of 0 and unit variance (important when features have different scales).  \n",
    "\n",
    "2. **Compute the Covariance Matrix**  \n",
    "   - Measures how different features vary together.  \n",
    "\n",
    "3. **Compute Eigenvectors and Eigenvalues**  \n",
    "   - Eigenvectors represent the **principal components** (directions of maximum variance).  \n",
    "   - Eigenvalues indicate the **importance** (variance captured) by each principal component.  \n",
    "\n",
    "4. **Select Principal Components**  \n",
    "   - Keep the top **k** components that explain most of the variance.  \n",
    "\n",
    "5. **Transform the Data**  \n",
    "   - Project original data onto the selected principal components.  \n",
    "\n",
    "---\n",
    "\n",
    "### **Visualization of PCA**  \n",
    "- PCA projects data onto a new set of **orthogonal axes**, capturing **maximum variance** in the first few principal components.  \n",
    "- Often, **2D or 3D PCA plots** help visualize high-dimensional data.\n",
    "\n",
    "---\n",
    "\n",
    "### **Advantages of PCA**  \n",
    "✔ **Reduces Dimensionality** → Makes datasets more manageable.  \n",
    "✔ **Removes Correlation** → Features become independent.  \n",
    "✔ **Improves Model Performance** → Less complexity and faster training.  \n",
    "✔ **Useful for Visualization** → Helps interpret data in lower dimensions.  \n",
    "\n",
    "---\n",
    "\n",
    "### **Disadvantages of PCA**  \n",
    "- **Loss of Information** → Some variance is lost during dimensionality reduction.  \n",
    "- **Difficult to Interpret** → Principal components are linear combinations of features, making them hard to understand.  \n",
    "- **Assumes Linearity** → PCA works best when data has linear relationships.  \n",
    "- **Sensitive to Scaling** → Requires proper standardization of features.  \n",
    "\n",
    "---\n",
    "\n",
    "### **When to Use PCA?**  \n",
    "- When you have **high-dimensional data** (many features).  \n",
    "- When you want to **remove redundancy and correlation** in features.  \n",
    "- When you need **faster training** for machine learning models.  \n",
    "- When visualizing **complex datasets** in 2D or 3D.  \n",
    "\n",
    "\n"
   ]
  },
  {
   "cell_type": "code",
   "execution_count": 2,
   "metadata": {},
   "outputs": [],
   "source": [
    "import numpy as np\n",
    "import pandas as pd\n",
    "from sklearn.decomposition import PCA"
   ]
  },
  {
   "cell_type": "code",
   "execution_count": 4,
   "metadata": {},
   "outputs": [
    {
     "data": {
      "text/html": [
       "<div>\n",
       "<style scoped>\n",
       "    .dataframe tbody tr th:only-of-type {\n",
       "        vertical-align: middle;\n",
       "    }\n",
       "\n",
       "    .dataframe tbody tr th {\n",
       "        vertical-align: top;\n",
       "    }\n",
       "\n",
       "    .dataframe thead th {\n",
       "        text-align: right;\n",
       "    }\n",
       "</style>\n",
       "<table border=\"1\" class=\"dataframe\">\n",
       "  <thead>\n",
       "    <tr style=\"text-align: right;\">\n",
       "      <th></th>\n",
       "      <th>0</th>\n",
       "      <th>1</th>\n",
       "      <th>2</th>\n",
       "      <th>3</th>\n",
       "      <th>4</th>\n",
       "    </tr>\n",
       "  </thead>\n",
       "  <tbody>\n",
       "    <tr>\n",
       "      <th>0</th>\n",
       "      <td>5.1</td>\n",
       "      <td>3.5</td>\n",
       "      <td>1.4</td>\n",
       "      <td>0.2</td>\n",
       "      <td>Iris-setosa</td>\n",
       "    </tr>\n",
       "    <tr>\n",
       "      <th>1</th>\n",
       "      <td>4.9</td>\n",
       "      <td>3.0</td>\n",
       "      <td>1.4</td>\n",
       "      <td>0.2</td>\n",
       "      <td>Iris-setosa</td>\n",
       "    </tr>\n",
       "    <tr>\n",
       "      <th>2</th>\n",
       "      <td>4.7</td>\n",
       "      <td>3.2</td>\n",
       "      <td>1.3</td>\n",
       "      <td>0.2</td>\n",
       "      <td>Iris-setosa</td>\n",
       "    </tr>\n",
       "    <tr>\n",
       "      <th>3</th>\n",
       "      <td>4.6</td>\n",
       "      <td>3.1</td>\n",
       "      <td>1.5</td>\n",
       "      <td>0.2</td>\n",
       "      <td>Iris-setosa</td>\n",
       "    </tr>\n",
       "    <tr>\n",
       "      <th>4</th>\n",
       "      <td>5.0</td>\n",
       "      <td>3.6</td>\n",
       "      <td>1.4</td>\n",
       "      <td>0.2</td>\n",
       "      <td>Iris-setosa</td>\n",
       "    </tr>\n",
       "  </tbody>\n",
       "</table>\n",
       "</div>"
      ],
      "text/plain": [
       "     0    1    2    3            4\n",
       "0  5.1  3.5  1.4  0.2  Iris-setosa\n",
       "1  4.9  3.0  1.4  0.2  Iris-setosa\n",
       "2  4.7  3.2  1.3  0.2  Iris-setosa\n",
       "3  4.6  3.1  1.5  0.2  Iris-setosa\n",
       "4  5.0  3.6  1.4  0.2  Iris-setosa"
      ]
     },
     "execution_count": 4,
     "metadata": {},
     "output_type": "execute_result"
    }
   ],
   "source": [
    "iris = pd.read_csv('https://archive.ics.uci.edu/ml/machine-learning-databases/iris/iris.data', header=None)\n",
    "iris.head()"
   ]
  },
  {
   "cell_type": "code",
   "execution_count": 7,
   "metadata": {},
   "outputs": [
    {
     "data": {
      "text/plain": [
       "array([[5.1, 3.5, 1.4, 0.2],\n",
       "       [4.9, 3. , 1.4, 0.2],\n",
       "       [4.7, 3.2, 1.3, 0.2],\n",
       "       [4.6, 3.1, 1.5, 0.2],\n",
       "       [5. , 3.6, 1.4, 0.2],\n",
       "       [5.4, 3.9, 1.7, 0.4],\n",
       "       [4.6, 3.4, 1.4, 0.3],\n",
       "       [5. , 3.4, 1.5, 0.2],\n",
       "       [4.4, 2.9, 1.4, 0.2],\n",
       "       [4.9, 3.1, 1.5, 0.1]])"
      ]
     },
     "execution_count": 7,
     "metadata": {},
     "output_type": "execute_result"
    }
   ],
   "source": [
    "# Split the dataset into features and labels\n",
    "X = iris.iloc[:, :-1].values\n",
    "y = iris.iloc[:, -1].values\n",
    "X[:10]"
   ]
  },
  {
   "cell_type": "code",
   "execution_count": 8,
   "metadata": {},
   "outputs": [
    {
     "data": {
      "text/plain": [
       "array(['Iris-setosa', 'Iris-setosa', 'Iris-setosa', 'Iris-setosa',\n",
       "       'Iris-setosa', 'Iris-setosa', 'Iris-setosa', 'Iris-setosa',\n",
       "       'Iris-setosa', 'Iris-setosa'], dtype=object)"
      ]
     },
     "execution_count": 8,
     "metadata": {},
     "output_type": "execute_result"
    }
   ],
   "source": [
    "y[:10]"
   ]
  },
  {
   "cell_type": "code",
   "execution_count": null,
   "metadata": {},
   "outputs": [],
   "source": []
  }
 ],
 "metadata": {
  "kernelspec": {
   "display_name": "env",
   "language": "python",
   "name": "python3"
  },
  "language_info": {
   "codemirror_mode": {
    "name": "ipython",
    "version": 3
   },
   "file_extension": ".py",
   "mimetype": "text/x-python",
   "name": "python",
   "nbconvert_exporter": "python",
   "pygments_lexer": "ipython3",
   "version": "3.8.10"
  }
 },
 "nbformat": 4,
 "nbformat_minor": 2
}
