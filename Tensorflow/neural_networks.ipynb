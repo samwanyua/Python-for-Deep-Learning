{
 "cells": [
  {
   "cell_type": "markdown",
   "metadata": {},
   "source": [
    "### Artificial Neural Networks (ANN)  \n",
    "\n",
    "###  What is an Artificial Neural Network?  \n",
    "An **Artificial Neural Network (ANN)** is a computational model inspired by **biological neural networks** in the human brain. It consists of layers of **interconnected neurons** that process information and learn patterns from data.\n",
    "\n",
    "---\n",
    "\n",
    "### Structure of an ANN  \n",
    "An ANN typically consists of three main types of layers:\n",
    "\n",
    "1. **Input Layer**   \n",
    "   - Takes raw input features (e.g., images, text, or numbers).  \n",
    "   - Passes them to the next layer.\n",
    "\n",
    "2. **Hidden Layers**  \n",
    "   - Perform computations and extract patterns.  \n",
    "   - Each neuron applies a mathematical transformation (e.g., weighted sum + activation function).\n",
    "\n",
    "3. **Output Layer**  \n",
    "   - Produces the final result (e.g., classification label or predicted value).\n",
    "\n",
    "---\n",
    "\n",
    "### How an ANN Works?  \n",
    "1. **Forward Propagation:**  \n",
    "   - Inputs pass through the network layer by layer.  \n",
    "   - Neurons apply weights, biases, and activation functions.  \n",
    "\n",
    "2. **Loss Calculation:**  \n",
    "   - The network compares predictions to actual values using a **loss function** (e.g., MSE, Cross-Entropy).  \n",
    "\n",
    "3. **Backward Propagation (Backpropagation):**  \n",
    "   - Computes **gradients** using differentiation.  \n",
    "   - Adjusts weights via **Gradient Descent** (or other optimizers like Adam).  \n",
    "\n",
    "4. **Training Iteration (Epochs):**  \n",
    "   - The process repeats multiple times until the model learns effectively.\n",
    "\n",
    "---\n",
    "### Common Activation Functions  \n",
    "| Function   | Formula | Usage |\n",
    "|------------|---------|--------|\n",
    "| **Sigmoid** | \\( \\sigma(x) = \\frac{1}{1 + e^{-x}} \\) | Outputs probability (0 to 1) |\n",
    "| **ReLU** | \\( f(x) = \\max(0, x) \\) | Handles non-linearity, prevents vanishing gradient |\n",
    "| **Softmax** | \\( \\frac{e^x}{\\sum e^x} \\) | Used for multi-class classification |\n",
    "\n",
    "---\n",
    "\n",
    "## 🛠 Applications of ANN  \n",
    "- Image Recognition (e.g., Face Recognition)  \n",
    "- Natural Language Processing (e.g., Chatbots)  \n",
    "- Time Series Prediction (e.g., Stock Market Forecasting)  \n",
    "- Healthcare (e.g., Disease Diagnosis)  \n",
    "\n",
    "---\n",
    "\n",
    "### Advantages of ANN  \n",
    "✔ **Learns complex patterns** automatically.  \n",
    "✔ **Can handle large datasets** and unstructured data (e.g., images, text).  \n",
    "✔ **Adaptable** to various domains (vision, speech, NLP).  \n",
    "\n",
    "###  Challenges of ANN  \n",
    "- Requires **a lot of data** to perform well.  \n",
    "- Training can be **computationally expensive**.  \n",
    "- Difficult to interpret (often called a **\"black box\"** model).  \n",
    "\n",
    "---\n"
   ]
  },
  {
   "cell_type": "code",
   "execution_count": 4,
   "metadata": {},
   "outputs": [],
   "source": [
    "import tensorflow as tf\n",
    "import numpy as np\n",
    "import matplotlib.pyplot as plt\n"
   ]
  },
  {
   "cell_type": "code",
   "execution_count": 5,
   "metadata": {},
   "outputs": [],
   "source": [
    "X_train_data = np.array([[0,0],[0,1],[1,0],[1,1]],dtype=np.float32)\n",
    "y_train_data = np.array([[0],[1],[0],[0]], dtype=np.float32)"
   ]
  },
  {
   "cell_type": "code",
   "execution_count": 6,
   "metadata": {},
   "outputs": [
    {
     "data": {
      "text/plain": [
       "array([[0., 0.],\n",
       "       [0., 1.],\n",
       "       [1., 0.],\n",
       "       [1., 1.]], dtype=float32)"
      ]
     },
     "execution_count": 6,
     "metadata": {},
     "output_type": "execute_result"
    }
   ],
   "source": [
    "X_train_data"
   ]
  },
  {
   "cell_type": "code",
   "execution_count": 7,
   "metadata": {},
   "outputs": [
    {
     "data": {
      "text/plain": [
       "array([[0.],\n",
       "       [1.],\n",
       "       [0.],\n",
       "       [0.]], dtype=float32)"
      ]
     },
     "execution_count": 7,
     "metadata": {},
     "output_type": "execute_result"
    }
   ],
   "source": [
    "y_train_data"
   ]
  },
  {
   "cell_type": "code",
   "execution_count": 8,
   "metadata": {},
   "outputs": [],
   "source": [
    "# Define the number of neurons in each layer\n",
    "n_input = 2 # no. of features\n",
    "n_hidden = 4 # number of hidden units\n",
    "n_output = 1 # number of output units\n",
    "\n"
   ]
  },
  {
   "cell_type": "code",
   "execution_count": 10,
   "metadata": {},
   "outputs": [],
   "source": [
    "# Define placeholder for input and output\n",
    "X = tf.Variable(tf.random.normal([1, n_input]), dtype=tf.float32)\n",
    "y = tf.Variable(tf.random.normal([1, n_output]), dtype=tf.float32)"
   ]
  },
  {
   "cell_type": "code",
   "execution_count": 18,
   "metadata": {},
   "outputs": [],
   "source": [
    "# Define biases and weights for each layer\n",
    "w1 = tf.Variable(tf.random.normal([n_input,n_hidden])) # weights from input to hidden layer\n",
    "b1 = tf.Variable(tf.random.normal([n_hidden])) # biases for hidden layer\n",
    "w2 = tf.Variable(tf.random.normal([n_hidden,n_output]))# weights from hidden to output layer\n",
    "b2 = tf.Variable(tf.random.normal([n_output])) # biases for output layer\n"
   ]
  },
  {
   "cell_type": "code",
   "execution_count": 21,
   "metadata": {},
   "outputs": [
    {
     "data": {
      "text/plain": [
       "<tf.Variable 'UnreadVariable' shape=() dtype=int64, numpy=1>"
      ]
     },
     "execution_count": 21,
     "metadata": {},
     "output_type": "execute_result"
    }
   ],
   "source": [
    "# Define optimizer using TensorFlow 2.x API\n",
    "optimizer = tf.keras.optimizers.SGD(learning_rate=0.1)\n",
    "\n",
    "# Compute gradients and apply them\n",
    "with tf.GradientTape() as tape:\n",
    "    z1 = tf.add(tf.matmul(X, w1), b1)  # Linear combination for hidden layer\n",
    "    a1 = tf.nn.sigmoid(z1)  # Activation function\n",
    "\n",
    "    z2 = tf.add(tf.matmul(a1, w2), b2)  # Linear combination for output layer\n",
    "    a2 = tf.nn.sigmoid(z2)  # Activation function\n",
    "\n",
    "    cost = tf.reduce_mean(tf.square(y - a2))  # Mean squared error loss\n",
    "\n",
    "gradients = tape.gradient(cost, [w1, b1, w2, b2])\n",
    "optimizer.apply_gradients(zip(gradients, [w1, b1, w2, b2]))\n"
   ]
  },
  {
   "cell_type": "code",
   "execution_count": 24,
   "metadata": {},
   "outputs": [
    {
     "name": "stdout",
     "output_type": "stream",
     "text": [
      "Epoch: 0, Loss: 0.25057080388069153\n",
      "Epoch: 100, Loss: 0.2504335641860962\n",
      "Epoch: 200, Loss: 0.25031185150146484\n",
      "Epoch: 300, Loss: 0.25020208954811096\n",
      "Epoch: 400, Loss: 0.25010156631469727\n",
      "Epoch: 500, Loss: 0.2500079274177551\n",
      "Epoch: 600, Loss: 0.24991945922374725\n",
      "Epoch: 700, Loss: 0.24983441829681396\n",
      "Epoch: 800, Loss: 0.24975141882896423\n",
      "Epoch: 900, Loss: 0.24966922402381897\n",
      "Predictions : \n",
      "[[0.50076175]\n",
      " [0.48802727]\n",
      " [0.511492  ]\n",
      " [0.49681795]]\n",
      "Actual: \n",
      "[[0.]\n",
      " [1.]\n",
      " [1.]\n",
      " [0.]]\n"
     ]
    },
    {
     "data": {
      "image/png": "[encoded data removed]",
      "text/plain": [
       "<Figure size 640x480 with 2 Axes>"
      ]
     },
     "metadata": {},
     "output_type": "display_data"
    }
   ],
   "source": [
    "import tensorflow as tf\n",
    "import numpy as np\n",
    "import matplotlib.pyplot as plt\n",
    "\n",
    "# Define training data (XOR problem)\n",
    "X_train_data = np.array([[0,0],[0,1],[1,0],[1,1]], dtype=np.float32)\n",
    "y_train_data = np.array([[0],[1],[1],[0]], dtype=np.float32)\n",
    "\n",
    "# Define neural network model\n",
    "class XORModel(tf.keras.Model):\n",
    "    def __init__(self):\n",
    "        super(XORModel, self).__init__()\n",
    "        self.hidden = tf.keras.layers.Dense(4, activation='sigmoid')  # Hidden layer with 4 neurons\n",
    "        self.output_layer = tf.keras.layers.Dense(1, activation='sigmoid')  # Output layer\n",
    "\n",
    "    def call(self, x):\n",
    "        x = self.hidden(x)\n",
    "        return self.output_layer(x)\n",
    "\n",
    "# Initialize model and optimizer\n",
    "model = XORModel()\n",
    "optimizer = tf.keras.optimizers.SGD(learning_rate=0.1)\n",
    "loss_fn = tf.keras.losses.MeanSquaredError()\n",
    "\n",
    "# Train model for 1000 epochs\n",
    "for epoch in range(1000):\n",
    "    with tf.GradientTape() as tape:\n",
    "        predictions = model(X_train_data)\n",
    "        loss = loss_fn(y_train_data, predictions)\n",
    "\n",
    "    gradients = tape.gradient(loss, model.trainable_variables)\n",
    "    optimizer.apply_gradients(zip(gradients, model.trainable_variables))\n",
    "\n",
    "    # Print loss every 100 epochs\n",
    "    if epoch % 100 == 0:\n",
    "        print(f\"Epoch: {epoch}, Loss: {loss.numpy()}\")\n",
    "\n",
    "# Test on unseen data\n",
    "X_test = np.array([[0,0],[0,1],[1,0],[1,1]], dtype=np.float32)\n",
    "y_test = np.array([[0],[1],[1],[0]], dtype=np.float32)\n",
    "\n",
    "# Get model predictions\n",
    "y_pred = model(X_test).numpy()\n",
    "\n",
    "# Print predictions\n",
    "print(f\"Predictions : \\n{y_pred}\")\n",
    "print(f\"Actual: \\n{y_test}\")\n",
    "\n",
    "# Plot predictions\n",
    "plt.scatter(X_test[:, 0], X_test[:, 1], c=y_pred[:, 0], cmap='RdBu')\n",
    "plt.title(\"Predictions\")\n",
    "plt.colorbar()\n",
    "plt.show()\n"
   ]
  },
  {
   "cell_type": "code",
   "execution_count": null,
   "metadata": {},
   "outputs": [],
   "source": []
  }
 ],
 "metadata": {
  "kernelspec": {
   "display_name": "env",
   "language": "python",
   "name": "python3"
  },
  "language_info": {
   "codemirror_mode": {
    "name": "ipython",
    "version": 3
   },
   "file_extension": ".py",
   "mimetype": "text/x-python",
   "name": "python",
   "nbconvert_exporter": "python",
   "pygments_lexer": "ipython3",
   "version": "3.8.10"
  }
 },
 "nbformat": 4,
 "nbformat_minor": 2
}
