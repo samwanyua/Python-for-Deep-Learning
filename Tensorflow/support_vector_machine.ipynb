{
 "cells": [
  {
   "cell_type": "markdown",
   "metadata": {},
   "source": [
    "### Support Vector Machine (SVM)\n",
    "\n",
    "#### Introduction  \n",
    "Support Vector Machine (SVM) is a supervised learning algorithm used for classification and regression tasks. It is particularly effective for high-dimensional spaces and works well when the number of dimensions exceeds the number of samples.\n",
    "\n",
    "#### How SVM Works  \n",
    "SVM finds the optimal **hyperplane** that best separates data points into different classes. The hyperplane is chosen to maximize the **margin**, which is the distance between the nearest points (support vectors) of each class.\n",
    "\n",
    "#### Key Concepts  \n",
    "1. **Hyperplane**: A decision boundary that separates different classes.  \n",
    "2. **Support Vectors**: Data points closest to the hyperplane that influence its position.  \n",
    "3. **Margin**: The distance between the hyperplane and the nearest support vectors. SVM aims to maximize this margin for better generalization.  \n",
    "\n",
    "### Types of SVM  \n",
    "### 1. **Linear SVM**  \n",
    "   - Used when data is **linearly separable**.\n",
    "   - Finds the straight-line (or hyperplane in higher dimensions) that separates classes.  \n",
    "   \n",
    "   **Equation of the hyperplane:**  \n",
    "   \\[\n",
    "   w \\cdot x + b = 0\n",
    "   \\]\n",
    "   where:\n",
    "   - \\( w \\) is the weight vector,\n",
    "   - \\( x \\) is the feature vector,\n",
    "   - \\( b \\) is the bias term.\n",
    "\n",
    "### 2. **Non-Linear SVM (Using Kernels)**  \n",
    "   - Used when data is **not linearly separable**.\n",
    "   - Maps data into a higher-dimensional space where it becomes linearly separable.\n",
    "   - Uses kernel functions such as:\n",
    "     - **Polynomial Kernel**: \\( (x \\cdot x')^d \\)\n",
    "     - **Radial Basis Function (RBF) Kernel**: \\( e^{-\\gamma ||x - x'||^2} \\)\n",
    "     - **Sigmoid Kernel**: \\( \\tanh(\\alpha x \\cdot x' + c) \\)\n",
    "\n",
    "### Hyperparameters of SVM  \n",
    "1. **C (Regularization Parameter)**  \n",
    "   - Controls the trade-off between achieving a low error and maximizing the margin.\n",
    "   - A **high C** results in a smaller margin but fewer misclassifications.\n",
    "   - A **low C** results in a larger margin but more misclassifications.\n",
    "\n",
    "2. **Gamma (for RBF Kernel)**  \n",
    "   - Defines how much influence a single training example has.\n",
    "   - **High gamma** → Closer decision boundary, risk of overfitting.\n",
    "   - **Low gamma** → Smoother decision boundary, risk of underfitting.\n",
    "\n",
    "## Advantages of SVM  \n",
    "- Effective in high-dimensional spaces.  \n",
    "- Works well for both linear and non-linear data (using kernels).  \n",
    "- Robust to overfitting in high-dimensional datasets.  \n",
    "- Memory efficient, as it uses a subset of training points (support vectors).  \n",
    "\n",
    "## Disadvantages of SVM  \n",
    "- Can be slow on large datasets.  \n",
    "- Sensitive to the choice of kernel and hyperparameters.  \n",
    "- Not ideal when the dataset has significant overlapping classes.\n",
    "\n"
   ]
  },
  {
   "cell_type": "code",
   "execution_count": 2,
   "metadata": {},
   "outputs": [],
   "source": [
    "import numpy as np\n",
    "import matplotlib.pyplot as plt\n",
    "from sklearn import svm"
   ]
  },
  {
   "cell_type": "code",
   "execution_count": 7,
   "metadata": {},
   "outputs": [],
   "source": [
    "# Set a random seed for reproducibility\n",
    "np.random.seed(0)\n",
    "\n",
    "# Generate two clusters of data points in 2D space\n",
    "# First cluster: 20 points normally distributed around (-2, -2)\n",
    "# Second cluster: 20 points normally distributed around (2, 2)\n",
    "X = np.r_[\n",
    "    np.random.randn(20, 2) - [2, 2],  # Shift the first set to the left-bottom\n",
    "    np.random.randn(20, 2) + [2, 2]   # Shift the second set to the right-top\n",
    "]\n",
    "\n",
    "# Create corresponding labels\n",
    "# First 20 points belong to class 0\n",
    "# Last 20 points belong to class 1\n",
    "y = [0] * 20 + [1] * 20\n",
    "\n",
    "# The dataset now consists of 40 samples, where:\n",
    "# - 'X' contains the feature values (2D coordinates)\n",
    "# - 'y' contains the class labels (0 or 1)"
   ]
  },
  {
   "cell_type": "code",
   "execution_count": 4,
   "metadata": {},
   "outputs": [
    {
     "data": {
      "text/plain": [
       "array([[-0.23594765, -1.59984279],\n",
       "       [-1.02126202,  0.2408932 ],\n",
       "       [-0.13244201, -2.97727788],\n",
       "       [-1.04991158, -2.15135721],\n",
       "       [-2.10321885, -1.5894015 ],\n",
       "       [-1.85595643, -0.54572649],\n",
       "       [-1.23896227, -1.87832498],\n",
       "       [-1.55613677, -1.66632567],\n",
       "       [-0.50592093, -2.20515826],\n",
       "       [-1.6869323 , -2.85409574],\n",
       "       [-4.55298982, -1.3463814 ],\n",
       "       [-1.1355638 , -2.74216502],\n",
       "       [ 0.26975462, -3.45436567],\n",
       "       [-1.95424148, -2.18718385],\n",
       "       [-0.46722079, -0.53064123],\n",
       "       [-1.84505257, -1.62183748],\n",
       "       [-2.88778575, -3.98079647],\n",
       "       [-2.34791215, -1.84365103],\n",
       "       [-0.76970932, -0.79762015],\n",
       "       [-2.38732682, -2.30230275],\n",
       "       [ 0.95144703,  0.57998206],\n",
       "       [ 0.29372981,  3.9507754 ],\n",
       "       [ 1.49034782,  1.5619257 ],\n",
       "       [ 0.74720464,  2.77749036],\n",
       "       [ 0.38610215,  1.78725972],\n",
       "       [ 1.10453344,  2.3869025 ],\n",
       "       [ 1.48919486,  0.81936782],\n",
       "       [ 1.97181777,  2.42833187],\n",
       "       [ 2.06651722,  2.3024719 ],\n",
       "       [ 1.36567791,  1.63725883],\n",
       "       [ 1.32753955,  1.64044684],\n",
       "       [ 1.18685372,  0.2737174 ],\n",
       "       [ 2.17742614,  1.59821906],\n",
       "       [ 0.36980165,  2.46278226],\n",
       "       [ 1.09270164,  2.0519454 ],\n",
       "       [ 2.72909056,  2.12898291],\n",
       "       [ 3.13940068,  0.76517418],\n",
       "       [ 2.40234164,  1.31518991],\n",
       "       [ 1.12920285,  1.42115034],\n",
       "       [ 1.68844747,  2.05616534]])"
      ]
     },
     "execution_count": 4,
     "metadata": {},
     "output_type": "execute_result"
    }
   ],
   "source": [
    "X"
   ]
  },
  {
   "cell_type": "code",
   "execution_count": 6,
   "metadata": {},
   "outputs": [
    {
     "data": {
      "text/plain": [
       "[0, 0, 0, 0, 0, 0, 0, 0, 0, 0]"
      ]
     },
     "execution_count": 6,
     "metadata": {},
     "output_type": "execute_result"
    }
   ],
   "source": [
    "y[:10]"
   ]
  },
  {
   "cell_type": "code",
   "execution_count": 8,
   "metadata": {},
   "outputs": [
    {
     "data": {
      "image/png": "[encoded data removed]",
      "text/plain": [
       "<Figure size 640x480 with 1 Axes>"
      ]
     },
     "metadata": {},
     "output_type": "display_data"
    }
   ],
   "source": [
    "# visualize the dataset\n",
    "plt.scatter(X[:,0],X[:, 1], c=y,cmap= plt.cm.Paired )\n",
    "plt.xlabel('X1')\n",
    "plt.ylabel('X2')\n",
    "plt.show()"
   ]
  },
  {
   "cell_type": "code",
   "execution_count": null,
   "metadata": {},
   "outputs": [],
   "source": [
    "# train the model"
   ]
  }
 ],
 "metadata": {
  "kernelspec": {
   "display_name": "env",
   "language": "python",
   "name": "python3"
  },
  "language_info": {
   "codemirror_mode": {
    "name": "ipython",
    "version": 3
   },
   "file_extension": ".py",
   "mimetype": "text/x-python",
   "name": "python",
   "nbconvert_exporter": "python",
   "pygments_lexer": "ipython3",
   "version": "3.8.10"
  }
 },
 "nbformat": 4,
 "nbformat_minor": 2
}
