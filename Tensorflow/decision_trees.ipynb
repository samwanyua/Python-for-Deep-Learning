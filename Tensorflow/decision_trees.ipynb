{
 "cells": [
  {
   "cell_type": "markdown",
   "metadata": {},
   "source": [
    "### Decision trees\n",
    "\n",
    "####  Introduction\n",
    "A **Decision Tree** is a supervised machine learning algorithm used for **classification** and **regression** tasks. It models decisions based on **if-else conditions**, splitting data at each node based on the most significant feature.\n",
    "\n",
    "---\n",
    "\n",
    "### Key Concepts\n",
    "\n",
    "#### Root Node\n",
    "- The **starting point** of the tree.\n",
    "- Represents the entire dataset, which is split into child nodes.\n",
    "\n",
    "#### Splitting\n",
    "- The process of dividing nodes into **sub-nodes** based on feature conditions.\n",
    "\n",
    "#### Decision Node\n",
    "- A node that **splits** into further sub-nodes.\n",
    "\n",
    "#### Leaf Node\n",
    "- The **final** output node (contains no further splits).\n",
    "- In classification, it represents **class labels**.\n",
    "- In regression, it holds a **continuous value**.\n",
    "\n",
    "#### Pruning\n",
    "- Reducing tree size by **removing branches** to avoid **overfitting**.\n",
    "\n",
    "---\n",
    "\n",
    "####  How Decision Trees Work\n",
    "\n",
    "* **Select the Best Feature**:  \n",
    "   - Uses criteria like **Gini Impurity**, **Entropy (Information Gain)**, or **Variance Reduction**.\n",
    "\n",
    "* **Split the Data**:  \n",
    "   - The feature with the best **split criterion** is chosen to divide the dataset.\n",
    "\n",
    "* **Repeat Until a Stopping Condition is Met**:  \n",
    "   - Stopping criteria can be **maximum depth**, **minimum samples per node**, etc.\n",
    "\n",
    "* **Make Predictions**:  \n",
    "   - Traverse from the root to a **leaf node** based on feature values.\n",
    "\n",
    "---\n",
    "\n",
    "####  Splitting Criteria\n",
    "\n",
    "####  **For Classification:**\n",
    "1. **Gini Impurity**  \n",
    "   \\[\n",
    "   Gini = 1 - \\sum p_i^2\n",
    "   \\]  \n",
    "   - Measures **impurity** in a node (lower is better).\n",
    "\n",
    "2. **Entropy & Information Gain**  \n",
    "   \\[\n",
    "   Entropy = -\\sum p_i \\log_2 p_i\n",
    "   \\]  \n",
    "   - Measures uncertainty in the dataset.\n",
    "\n",
    "   \\[\n",
    "   \\text{Information Gain} = \\text{Entropy(Parent)} - \\sum \\text{Weighted Entropy(Child)}\n",
    "   \\]\n",
    "   - Higher **Information Gain** means a better split.\n",
    "\n",
    "####  **For Regression:**\n",
    "- Uses **Mean Squared Error (MSE)** or **Mean Absolute Error (MAE)**.\n",
    "\n",
    "---\n",
    "\n",
    "####  Advantages of Decision Trees\n",
    "\n",
    "- **Easy to interpret & visualize**  \n",
    "- **No need for feature scaling** (e.g., Standardization)  \n",
    "- **Handles both numerical & categorical data**  \n",
    "- **Works well with missing values**  \n",
    "- **Performs feature selection automatically**  \n",
    "\n",
    "---\n",
    "\n",
    "##  Disadvantages of Decision Trees\n",
    "\n",
    "- **Prone to overfitting** (Deep trees memorize data)  \n",
    "- **Sensitive to noisy data**  \n",
    "- **Not optimal for large datasets** (Better alternatives: Random Forests)  \n",
    "\n",
    "---\n",
    "\n",
    "\n"
   ]
  },
  {
   "cell_type": "code",
   "execution_count": 2,
   "metadata": {},
   "outputs": [],
   "source": [
    "from sklearn.datasets import load_iris\n",
    "from sklearn.tree import DecisionTreeClassifier, export_graphviz\n",
    "from sklearn.model_selection import train_test_split\n",
    "from sklearn.metrics import accuracy_score\n",
    "import graphviz\n"
   ]
  },
  {
   "cell_type": "code",
   "execution_count": 3,
   "metadata": {},
   "outputs": [],
   "source": [
    "iris = load_iris()\n",
    "X = iris.data\n",
    "y = iris.target\n"
   ]
  },
  {
   "cell_type": "code",
   "execution_count": 5,
   "metadata": {},
   "outputs": [
    {
     "data": {
      "text/plain": [
       "array([[5.1, 3.5, 1.4, 0.2],\n",
       "       [4.9, 3. , 1.4, 0.2],\n",
       "       [4.7, 3.2, 1.3, 0.2],\n",
       "       [4.6, 3.1, 1.5, 0.2],\n",
       "       [5. , 3.6, 1.4, 0.2],\n",
       "       [5.4, 3.9, 1.7, 0.4],\n",
       "       [4.6, 3.4, 1.4, 0.3],\n",
       "       [5. , 3.4, 1.5, 0.2],\n",
       "       [4.4, 2.9, 1.4, 0.2],\n",
       "       [4.9, 3.1, 1.5, 0.1]])"
      ]
     },
     "execution_count": 5,
     "metadata": {},
     "output_type": "execute_result"
    }
   ],
   "source": [
    "X[:10]"
   ]
  },
  {
   "cell_type": "code",
   "execution_count": 6,
   "metadata": {},
   "outputs": [
    {
     "data": {
      "text/plain": [
       "array([0, 0, 0, 0, 0, 0, 0, 0, 0, 0])"
      ]
     },
     "execution_count": 6,
     "metadata": {},
     "output_type": "execute_result"
    }
   ],
   "source": [
    "y[:10]"
   ]
  },
  {
   "cell_type": "code",
   "execution_count": 7,
   "metadata": {},
   "outputs": [],
   "source": [
    "X_train, X_test, y_train, y_test = train_test_split(X, y, test_size=0.2, random_state=1)\n"
   ]
  },
  {
   "cell_type": "code",
   "execution_count": null,
   "metadata": {},
   "outputs": [],
   "source": []
  }
 ],
 "metadata": {
  "kernelspec": {
   "display_name": "env",
   "language": "python",
   "name": "python3"
  },
  "language_info": {
   "codemirror_mode": {
    "name": "ipython",
    "version": 3
   },
   "file_extension": ".py",
   "mimetype": "text/x-python",
   "name": "python",
   "nbconvert_exporter": "python",
   "pygments_lexer": "ipython3",
   "version": "3.8.10"
  }
 },
 "nbformat": 4,
 "nbformat_minor": 2
}
