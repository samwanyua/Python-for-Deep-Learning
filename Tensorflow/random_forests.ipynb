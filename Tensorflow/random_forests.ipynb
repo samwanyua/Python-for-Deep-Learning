{
 "cells": [
  {
   "cell_type": "markdown",
   "metadata": {},
   "source": [
    "### Random Forests\n",
    "\n",
    "#### Introduction\n",
    "Random Forest is an ensemble learning method used for classification and regression tasks. It operates by constructing multiple decision trees during training and outputs the class (classification) or mean prediction (regression) from all the trees.\n",
    "\n",
    "#### How It Works\n",
    "1. **Bootstrapping (Bagging)**: \n",
    "   - The algorithm randomly selects subsets of the training data with replacement (bootstrap sampling).\n",
    "   - Multiple decision trees are trained on different subsets of the data.\n",
    "\n",
    "2. **Feature Randomness**:\n",
    "   - At each split in a tree, a random subset of features is considered instead of all features.\n",
    "   - This helps in reducing correlation among trees, making the model more robust.\n",
    "\n",
    "3. **Majority Voting / Averaging**:\n",
    "   - For classification: Each tree makes a prediction, and the most common class is chosen (majority voting).\n",
    "   - For regression: The predictions from all trees are averaged to get the final result.\n",
    "\n",
    "#### Advantages\n",
    "- Reduces overfitting compared to a single decision tree.\n",
    "- Works well with large datasets and high-dimensional data.\n",
    "- Handles missing values effectively.\n",
    "- Can handle both classification and regression tasks.\n",
    "\n",
    "#### Disadvantages\n",
    "- Requires more computational resources compared to a single decision tree.\n",
    "- Can be less interpretable than a single decision tree.\n",
    "\n",
    "#### Hyperparameters\n",
    "Some key hyperparameters to tune in Random Forests:\n",
    "- `n_estimators`: Number of trees in the forest.\n",
    "- `max_depth`: Maximum depth of each tree.\n",
    "- `min_samples_split`: Minimum samples required to split a node.\n",
    "- `min_samples_leaf`: Minimum samples required at a leaf node.\n",
    "- `max_features`: Number of features to consider for each split.\n",
    "\n",
    "\n"
   ]
  },
  {
   "cell_type": "code",
   "execution_count": 2,
   "metadata": {},
   "outputs": [],
   "source": [
    "import matplotlib.pyplot as plt\n",
    "import numpy as np\n",
    "from sklearn.ensemble import RandomForestClassifier, RandomForestRegressor\n",
    "from sklearn.datasets import load_breast_cancer\n",
    "from sklearn.model_selection import train_test_split"
   ]
  },
  {
   "cell_type": "code",
   "execution_count": null,
   "metadata": {},
   "outputs": [],
   "source": []
  }
 ],
 "metadata": {
  "kernelspec": {
   "display_name": "env",
   "language": "python",
   "name": "python3"
  },
  "language_info": {
   "codemirror_mode": {
    "name": "ipython",
    "version": 3
   },
   "file_extension": ".py",
   "mimetype": "text/x-python",
   "name": "python",
   "nbconvert_exporter": "python",
   "pygments_lexer": "ipython3",
   "version": "3.8.10"
  }
 },
 "nbformat": 4,
 "nbformat_minor": 2
}
