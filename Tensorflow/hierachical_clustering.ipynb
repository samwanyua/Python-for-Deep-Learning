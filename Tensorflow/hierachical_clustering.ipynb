{
 "cells": [
  {
   "cell_type": "markdown",
   "metadata": {},
   "source": [
    "## Hierarchical Clustering  \n",
    "\n",
    "### **Introduction**  \n",
    "Hierarchical clustering is an unsupervised machine learning algorithm used for grouping data points into clusters. Unlike **K-Means**, it does not require specifying the number of clusters in advance. Instead, it builds a hierarchy of clusters using a **bottom-up (agglomerative)** or **top-down (divisive)** approach.  \n",
    "\n",
    "---\n",
    "\n",
    "### **Types of Hierarchical Clustering**  \n",
    "1. **Agglomerative Hierarchical Clustering (AHC)** (Bottom-Up)  \n",
    "   - Starts with each data point as its own cluster.  \n",
    "   - Iteratively merges the closest clusters until a single cluster remains.  \n",
    "   - Commonly used due to its simplicity and effectiveness.  \n",
    "\n",
    "2. **Divisive Hierarchical Clustering (DHC)** (Top-Down)  \n",
    "   - Starts with a single cluster containing all data points.  \n",
    "   - Recursively splits into smaller clusters until each point is in its own cluster.  \n",
    "   - Less common than AHC due to its complexity.  \n",
    "\n",
    "---\n",
    "\n",
    "### **Linkage Methods in Hierarchical Clustering**  \n",
    "Hierarchical clustering relies on **linkage methods** to determine the distance between clusters:  \n",
    "- **Single Linkage:** Uses the shortest distance between any two points in different clusters.  \n",
    "- **Complete Linkage:** Uses the longest distance between any two points in different clusters.  \n",
    "- **Average Linkage:** Uses the average distance between all points in different clusters.  \n",
    "- **Ward’s Method:** Minimizes variance within clusters, leading to compact and evenly-sized clusters.  \n",
    "\n",
    "---\n",
    "\n",
    "### **Steps in Agglomerative Hierarchical Clustering**  \n",
    "1. **Compute the distance matrix** between all data points.  \n",
    "2. **Merge the two closest clusters** based on the chosen linkage method.  \n",
    "3. **Repeat the process** until only one cluster remains.  \n",
    "4. **Visualize the clustering** using a **dendrogram** (tree-like diagram).  \n",
    "\n"
   ]
  },
  {
   "cell_type": "code",
   "execution_count": null,
   "metadata": {},
   "outputs": [],
   "source": []
  }
 ],
 "metadata": {
  "language_info": {
   "name": "python"
  }
 },
 "nbformat": 4,
 "nbformat_minor": 2
}
