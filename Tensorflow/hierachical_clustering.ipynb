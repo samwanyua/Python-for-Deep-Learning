{
 "cells": [
  {
   "cell_type": "markdown",
   "metadata": {},
   "source": [
    "## Hierarchical Clustering  \n",
    "\n",
    "### **Introduction**  \n",
    "Hierarchical clustering is an unsupervised machine learning algorithm used for grouping data points into clusters. Unlike **K-Means**, it does not require specifying the number of clusters in advance. Instead, it builds a hierarchy of clusters using a **bottom-up (agglomerative)** or **top-down (divisive)** approach.  \n",
    "\n",
    "---\n",
    "\n",
    "### **Types of Hierarchical Clustering**  \n",
    "1. **Agglomerative Hierarchical Clustering (AHC)** (Bottom-Up)  \n",
    "   - Starts with each data point as its own cluster.  \n",
    "   - Iteratively merges the closest clusters until a single cluster remains.  \n",
    "   - Commonly used due to its simplicity and effectiveness.  \n",
    "\n",
    "2. **Divisive Hierarchical Clustering (DHC)** (Top-Down)  \n",
    "   - Starts with a single cluster containing all data points.  \n",
    "   - Recursively splits into smaller clusters until each point is in its own cluster.  \n",
    "   - Less common than AHC due to its complexity.  \n",
    "\n",
    "---\n",
    "\n",
    "### **Linkage Methods in Hierarchical Clustering**  \n",
    "Hierarchical clustering relies on **linkage methods** to determine the distance between clusters:  \n",
    "- **Single Linkage:** Uses the shortest distance between any two points in different clusters.  \n",
    "- **Complete Linkage:** Uses the longest distance between any two points in different clusters.  \n",
    "- **Average Linkage:** Uses the average distance between all points in different clusters.  \n",
    "- **Ward’s Method:** Minimizes variance within clusters, leading to compact and evenly-sized clusters.  \n",
    "\n",
    "---\n",
    "\n",
    "### **Steps in Agglomerative Hierarchical Clustering**  \n",
    "1. **Compute the distance matrix** between all data points.  \n",
    "2. **Merge the two closest clusters** based on the chosen linkage method.  \n",
    "3. **Repeat the process** until only one cluster remains.  \n",
    "4. **Visualize the clustering** using a **dendrogram** (tree-like diagram).  \n",
    "\n",
    "# **Hierarchical Clustering: Pros and Cons**\n",
    "\n",
    "### **Pros (Advantages)**  \n",
    "1. **No Need to Specify Number of Clusters**  \n",
    "   - Unlike **K-Means**, hierarchical clustering doesn’t require predefining the number of clusters.  \n",
    "\n",
    "2. **Produces a Dendrogram for Visualization**  \n",
    "   - The dendrogram provides a clear **hierarchical structure** of the data, making it easy to decide the number of clusters.  \n",
    "\n",
    "3. **Captures Nested Clusters**  \n",
    "   - Works well for **hierarchical relationships** (e.g., species classification, social networks).  \n",
    "\n",
    "4. **Works Well for Small Datasets**  \n",
    "   - It can accurately capture relationships when dealing with a small number of data points.  \n",
    "\n",
    "5. **Can Handle Non-Spherical Clusters**  \n",
    "   - Unlike K-Means, hierarchical clustering **doesn’t assume** clusters are spherical, making it suitable for complex shapes.  \n",
    "\n",
    "---\n",
    "\n",
    "### **Cons (Disadvantages)**  \n",
    "1. **Computationally Expensive**  \n",
    "   - Time complexity is **O(n²) to O(n³)**, making it impractical for very large datasets (**K-Means is faster**).  \n",
    "\n",
    "2. **Sensitive to Noisy Data & Outliers**  \n",
    "   - Can produce **incorrect** merges due to noisy data or extreme values.  \n",
    "\n",
    "3. **Not Ideal for Large Datasets**  \n",
    "   - Since it computes distances between all points, it becomes **memory-intensive** for thousands of data points.  \n",
    "\n",
    "4. **Difficult to Undo Splits**  \n",
    "   - Once a point is merged into a cluster, it **cannot be reassigned**, unlike K-Means, where clusters can shift dynamically.  \n",
    "\n",
    "5. **Choosing the Right Cut-Off is Tricky**  \n",
    "   - Deciding **where to cut the dendrogram** to form clusters is sometimes subjective and dataset-dependent.  \n",
    "\n",
    "---\n",
    "\n",
    "### **When to Use Hierarchical Clustering?**  \n",
    "- Best for **small to medium datasets** where interpretability is important.  \n",
    "- Useful when **no predefined number of clusters is known**.  \n",
    "- Works well for **nested or hierarchical structures** (e.g., biological taxonomy, customer segmentation).  \n"
   ]
  },
  {
   "cell_type": "code",
   "execution_count": 3,
   "metadata": {},
   "outputs": [],
   "source": [
    "import numpy as np\n",
    "import matplotlib.pyplot as plt\n",
    "from sklearn.cluster import AgglomerativeClustering\n",
    "from scipy.cluster.hierarchy import dendrogram, linkage\n"
   ]
  },
  {
   "cell_type": "code",
   "execution_count": 4,
   "metadata": {},
   "outputs": [],
   "source": [
    "# Generate synthetic data\n",
    "np.random.seed(0)\n",
    "X = np.random.randn(20,2)"
   ]
  },
  {
   "cell_type": "code",
   "execution_count": 6,
   "metadata": {},
   "outputs": [
    {
     "name": "stdout",
     "output_type": "stream",
     "text": [
      "Cluster labels: [11 17 12 18 19 15  9 16 13 14  7 10  5  8  3  6  4  2  1  0]\n"
     ]
    }
   ],
   "source": [
    "clustering = AgglomerativeClustering(n_clusters=None, distance_threshold=0).fit(X)\n",
    "# Print cluster labels\n",
    "print(\"Cluster labels:\", clustering.labels_)"
   ]
  },
  {
   "cell_type": "code",
   "execution_count": 7,
   "metadata": {},
   "outputs": [
    {
     "data": {
      "image/png": "[encoded data removed]",
      "text/plain": [
       "<Figure size 640x480 with 1 Axes>"
      ]
     },
     "metadata": {},
     "output_type": "display_data"
    }
   ],
   "source": [
    "linked = linkage(X, method='ward')\n",
    "dendrogram(linked, orientation='top')\n",
    "plt.xlabel('Data points')\n",
    "plt.ylabel('Distance')\n",
    "plt.title('Dendrogram')\n",
    "plt.show()"
   ]
  },
  {
   "cell_type": "code",
   "execution_count": null,
   "metadata": {},
   "outputs": [],
   "source": []
  }
 ],
 "metadata": {
  "kernelspec": {
   "display_name": "env",
   "language": "python",
   "name": "python3"
  },
  "language_info": {
   "codemirror_mode": {
    "name": "ipython",
    "version": 3
   },
   "file_extension": ".py",
   "mimetype": "text/x-python",
   "name": "python",
   "nbconvert_exporter": "python",
   "pygments_lexer": "ipython3",
   "version": "3.8.10"
  }
 },
 "nbformat": 4,
 "nbformat_minor": 2
}
