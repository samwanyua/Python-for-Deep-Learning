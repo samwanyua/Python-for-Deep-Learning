{
 "cells": [
  {
   "cell_type": "markdown",
   "metadata": {},
   "source": [
    "# Logistic Regression\n",
    "\n",
    "#### Introduction\n",
    "Logistic Regression is a **supervised learning algorithm** used for **classification tasks**. It predicts **probabilities** and is commonly used in **binary classification problems** (e.g., spam detection, disease prediction).\n",
    "\n",
    "#### How It Works\n",
    "Instead of predicting a continuous value (like Linear Regression), Logistic Regression predicts the **probability (p) that an instance belongs to a certain class** using the **sigmoid function**:\n",
    "\n",
    "\\[\n",
    "p = \\frac{1}{1 + e^{-(wX + b)}}\n",
    "\\]\n",
    "\n",
    "Where:\n",
    "- \\( wX + b \\) is the **linear equation** (weights and bias),\n",
    "- \\( e \\) is Euler’s number (~2.718),\n",
    "- The result is between **0 and 1**, interpreted as a probability.\n",
    "\n",
    "#### Decision Boundary\n",
    "- If \\( p \\geq 0.5 \\), classify as **1** (positive class).\n",
    "- If \\( p < 0.5 \\), classify as **0** (negative class).\n",
    "\n",
    "This forms a **decision boundary** that separates different classes.\n",
    "\n",
    "#### Cost Function (Log Loss)\n",
    "Logistic Regression uses **Log Loss (Binary Cross-Entropy)** to measure how well the model predicts:\n",
    "\n",
    "\\[\n",
    "J(w, b) = -\\frac{1}{m} \\sum \\left[ y \\log(\\hat{y}) + (1 - y) \\log(1 - \\hat{y}) \\right]\n",
    "\\]\n",
    "\n",
    "Where:\n",
    "- \\( y \\) is the actual class (0 or 1),\n",
    "- \\( \\hat{y} \\) is the predicted probability,\n",
    "- \\( m \\) is the number of samples.\n",
    "\n",
    "#### Types of Logistic Regression\n",
    "- **Binary Logistic Regression** → Two classes (e.g., spam or not spam).\n",
    "- **Multiclass Logistic Regression** → Multiple classes using **One-vs-Rest (OvR)** or **Softmax Regression**.\n",
    "\n",
    "#### Advantages\n",
    "- Simple and efficient for classification  \n",
    "- Interpretable and easy to implement  \n",
    "- Works well with **linearly separable** data  \n",
    "\n",
    "#### Limitations\n",
    "- Struggles with **non-linear** relationships (requires feature engineering or a more complex model).  \n",
    "- Sensitive to **outliers**.  \n",
    "- Assumes **independent features** (may require preprocessing).  \n",
    "\n"
   ]
  },
  {
   "cell_type": "code",
   "execution_count": null,
   "metadata": {},
   "outputs": [],
   "source": [
    "import pandas as pd\n",
    "import numpy as np\n",
    "from sklearn.model_selection import train_test_split\n",
    "from sklearn.linear_model import LogisticRegression\n",
    "from sklearn.metrics import accuracy_score\n",
    "from sklearn.metrics import roc_auc_score, roc_curve\n",
    "import matplotlib.pyplot as plt \n"
   ]
  },
  {
   "cell_type": "code",
   "execution_count": 2,
   "metadata": {},
   "outputs": [
    {
     "data": {
      "text/html": [
       "<div>\n",
       "<style scoped>\n",
       "    .dataframe tbody tr th:only-of-type {\n",
       "        vertical-align: middle;\n",
       "    }\n",
       "\n",
       "    .dataframe tbody tr th {\n",
       "        vertical-align: top;\n",
       "    }\n",
       "\n",
       "    .dataframe thead th {\n",
       "        text-align: right;\n",
       "    }\n",
       "</style>\n",
       "<table border=\"1\" class=\"dataframe\">\n",
       "  <thead>\n",
       "    <tr style=\"text-align: right;\">\n",
       "      <th></th>\n",
       "      <th>Age</th>\n",
       "      <th>Gender</th>\n",
       "      <th>Education</th>\n",
       "      <th>Income</th>\n",
       "      <th>Smoker</th>\n",
       "      <th>Cholesterol</th>\n",
       "      <th>Heart_Disease</th>\n",
       "    </tr>\n",
       "  </thead>\n",
       "  <tbody>\n",
       "    <tr>\n",
       "      <th>0</th>\n",
       "      <td>42</td>\n",
       "      <td>Female</td>\n",
       "      <td>Bachelor's Degree</td>\n",
       "      <td>65000</td>\n",
       "      <td>No</td>\n",
       "      <td>180</td>\n",
       "      <td>No</td>\n",
       "    </tr>\n",
       "    <tr>\n",
       "      <th>1</th>\n",
       "      <td>55</td>\n",
       "      <td>Male</td>\n",
       "      <td>High School Diploma</td>\n",
       "      <td>40000</td>\n",
       "      <td>Yes</td>\n",
       "      <td>245</td>\n",
       "      <td>Yes</td>\n",
       "    </tr>\n",
       "    <tr>\n",
       "      <th>2</th>\n",
       "      <td>30</td>\n",
       "      <td>Female</td>\n",
       "      <td>Master's Degree</td>\n",
       "      <td>80000</td>\n",
       "      <td>Yes</td>\n",
       "      <td>210</td>\n",
       "      <td>No</td>\n",
       "    </tr>\n",
       "    <tr>\n",
       "      <th>3</th>\n",
       "      <td>39</td>\n",
       "      <td>Male</td>\n",
       "      <td>Some College</td>\n",
       "      <td>50000</td>\n",
       "      <td>Yes</td>\n",
       "      <td>195</td>\n",
       "      <td>No</td>\n",
       "    </tr>\n",
       "    <tr>\n",
       "      <th>4</th>\n",
       "      <td>27</td>\n",
       "      <td>Male</td>\n",
       "      <td>Some College</td>\n",
       "      <td>30000</td>\n",
       "      <td>No</td>\n",
       "      <td>170</td>\n",
       "      <td>No</td>\n",
       "    </tr>\n",
       "  </tbody>\n",
       "</table>\n",
       "</div>"
      ],
      "text/plain": [
       "   Age  Gender            Education  Income Smoker  Cholesterol Heart_Disease\n",
       "0   42  Female    Bachelor's Degree   65000     No          180            No\n",
       "1   55    Male  High School Diploma   40000    Yes          245           Yes\n",
       "2   30  Female      Master's Degree   80000    Yes          210            No\n",
       "3   39    Male         Some College   50000    Yes          195            No\n",
       "4   27    Male         Some College   30000     No          170            No"
      ]
     },
     "execution_count": 2,
     "metadata": {},
     "output_type": "execute_result"
    }
   ],
   "source": [
    "data = pd.read_csv('Data/heartdiseases.csv')\n",
    "data.head()"
   ]
  },
  {
   "cell_type": "code",
   "execution_count": 3,
   "metadata": {},
   "outputs": [
    {
     "data": {
      "text/plain": [
       "(50, 7)"
      ]
     },
     "execution_count": 3,
     "metadata": {},
     "output_type": "execute_result"
    }
   ],
   "source": [
    "data.shape"
   ]
  },
  {
   "cell_type": "code",
   "execution_count": null,
   "metadata": {},
   "outputs": [],
   "source": []
  }
 ],
 "metadata": {
  "kernelspec": {
   "display_name": "env",
   "language": "python",
   "name": "python3"
  },
  "language_info": {
   "codemirror_mode": {
    "name": "ipython",
    "version": 3
   },
   "file_extension": ".py",
   "mimetype": "text/x-python",
   "name": "python",
   "nbconvert_exporter": "python",
   "pygments_lexer": "ipython3",
   "version": "3.8.10"
  }
 },
 "nbformat": 4,
 "nbformat_minor": 2
}
