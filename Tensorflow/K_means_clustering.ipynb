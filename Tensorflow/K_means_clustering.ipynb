{
 "cells": [
  {
   "cell_type": "markdown",
   "metadata": {},
   "source": [
    "### Overview\n",
    "Unsupervised learning is a type of machine learning where models are trained on **unlabeled data**, meaning the algorithm does not have predefined output labels. The goal is to identify **patterns, structures, or relationships** within the data.\n",
    "\n",
    "### Key Characteristics\n",
    "- No labeled output data\n",
    "- Finds hidden structures in data\n",
    "- Used for clustering, anomaly detection, and dimensionality reduction\n",
    "\n",
    "### Types of Unsupervised Learning\n",
    "\n",
    "### 1. Clustering\n",
    "Clustering algorithms group similar data points into clusters based on their features. Examples:\n",
    "- **K-Means Clustering**: Partitions data into *K* clusters.\n",
    "- **Hierarchical Clustering**: Builds a hierarchy of clusters.\n",
    "- **DBSCAN (Density-Based Spatial Clustering)**: Groups points based on density.\n",
    "\n",
    "### 2. Dimensionality Reduction\n",
    "These techniques reduce the number of features while preserving essential information. Examples:\n",
    "- **Principal Component Analysis (PCA)**: Projects data onto fewer dimensions.\n",
    "- **t-SNE (t-Distributed Stochastic Neighbor Embedding)**: Used for high-dimensional data visualization.\n",
    "\n",
    "### 3. Association Rule Learning\n",
    "Finds relationships between variables in large datasets. Examples:\n",
    "- **Apriori Algorithm**: Used in market basket analysis.\n",
    "- **Eclat Algorithm**: Similar to Apriori but more efficient.\n",
    "\n",
    "### Applications of Unsupervised Learning\n",
    "- Customer segmentation in marketing\n",
    "- Anomaly detection in fraud detection\n",
    "- Image compression using PCA\n",
    "- Topic modeling in Natural Language Processing (NLP)\n",
    "\n",
    "### Advantages\n",
    "- Can handle large datasets  \n",
    "- Finds hidden patterns without labels  \n",
    "- Helps in exploratory data analysis  \n",
    "\n",
    "### Disadvantages\n",
    "- Hard to evaluate performance  \n",
    "- Requires domain knowledge for interpretation  \n",
    "- Results may be less accurate than supervised learning  \n",
    "\n",
    "### Summary\n",
    "Unsupervised learning is essential for discovering patterns and structures in unlabeled data. It plays a vital role in various fields, including data science, finance, healthcare, and marketing.\n"
   ]
  },
  {
   "cell_type": "markdown",
   "metadata": {},
   "source": []
  }
 ],
 "metadata": {
  "language_info": {
   "name": "python"
  }
 },
 "nbformat": 4,
 "nbformat_minor": 2
}
