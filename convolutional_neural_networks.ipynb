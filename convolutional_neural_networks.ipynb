{
 "cells": [
  {
   "cell_type": "markdown",
   "metadata": {},
   "source": [
    "### Convolutional Neural Networks\n",
    "CNN are DL models designed for image recognition and classifications. Consists of multiple layers including convolutional, pooling and fully connected layers to learn spatial features from images\n",
    "\n",
    "Key Components:\n",
    "- Convolutionals layers that appy filters(kernels) to detect local features. Output is the weighted sum of input and bias through the activation function.\n",
    "-Activation functions like ReLU introduce non-linearity for complex pattern learning\n",
    "- Pooling layers reduce spatial dimensions for computational efficiency.\n",
    "- Fully connected layers that learn global patterns and produce class probabilities using softmax activation\n",
    "\n",
    "\n"
   ]
  },
  {
   "cell_type": "markdown",
   "metadata": {},
   "source": []
  }
 ],
 "metadata": {
  "language_info": {
   "name": "python"
  }
 },
 "nbformat": 4,
 "nbformat_minor": 2
}
