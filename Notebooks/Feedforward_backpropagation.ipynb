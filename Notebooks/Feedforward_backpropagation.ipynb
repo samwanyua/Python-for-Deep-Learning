{
 "cells": [
  {
   "cell_type": "code",
   "execution_count": 2,
   "metadata": {},
   "outputs": [],
   "source": [
    "import numpy as np \n",
    "\n",
    "# Sigmoid activation function and its derivative\n",
    "def sigmoid(x):\n",
    "    return 1/(1 + np.exp(-x))\n",
    "\n",
    "def sigmoid_derivative(x):\n",
    "    return x * (1 - x) # derivative of sigmoid function\n",
    "\n",
    "# Train data (X: Inputs, y: expected outputs)\n",
    "X = np.array([[0,0],[0,1],[1,0],[1,1]]) # XOR inputs\n",
    "y = np.array([[0],[1], [1], [0]]) # XOR outputs\n",
    "\n",
    "\n",
    "# Initialize weights and biases randomly\n",
    "np.random.seed(42)  # For reproducibility\n",
    "input_size = 2\n",
    "hidden_size = 2\n",
    "output_size = 1\n",
    "\n",
    "W1 = np.random.uniform(-1, 1, (input_size, hidden_size))  # Weights for input to hidden\n",
    "b1 = np.random.uniform(-1, 1, (1, hidden_size))  # Bias for hidden layer\n",
    "W2 = np.random.uniform(-1, 1, (hidden_size, output_size))  # Weights for hidden to output\n",
    "b2 = np.random.uniform(-1, 1, (1, output_size))  # Bias for output layer\n",
    "\n"
   ]
  },
  {
   "cell_type": "code",
   "execution_count": 3,
   "metadata": {},
   "outputs": [],
   "source": [
    "learning_rate = 0.5  # Learning rate\n",
    "epochs = 10000  # Number of training iterations"
   ]
  },
  {
   "cell_type": "code",
   "execution_count": 4,
   "metadata": {},
   "outputs": [
    {
     "name": "stdout",
     "output_type": "stream",
     "text": [
      "Epoch 0, Loss: 0.25449\n",
      "Epoch 1000, Loss: 0.04902\n",
      "Epoch 2000, Loss: 0.00339\n",
      "Epoch 3000, Loss: 0.00158\n",
      "Epoch 4000, Loss: 0.00101\n",
      "Epoch 5000, Loss: 0.00073\n",
      "Epoch 6000, Loss: 0.00058\n",
      "Epoch 7000, Loss: 0.00047\n",
      "Epoch 8000, Loss: 0.00040\n",
      "Epoch 9000, Loss: 0.00035\n"
     ]
    }
   ],
   "source": [
    "# Training the neural network\n",
    "for epoch in range(epochs):\n",
    "    # ---- Forward Propagation ----\n",
    "    hidden_input = np.dot(X, W1) + b1\n",
    "    hidden_output = sigmoid(hidden_input)\n",
    "\n",
    "    final_input = np.dot(hidden_output, W2) + b2\n",
    "    final_output = sigmoid(final_input)\n",
    "\n",
    "    # ---- Compute Loss (Mean Squared Error) ----\n",
    "    error = y - final_output\n",
    "    loss = np.mean(np.square(error))\n",
    "\n",
    "    # ---- Backpropagation ----\n",
    "    # Compute gradients for output layer\n",
    "    d_output = error * sigmoid_derivative(final_output)  # Delta for output layer\n",
    "    W2_grad = np.dot(hidden_output.T, d_output)\n",
    "    b2_grad = np.sum(d_output, axis=0, keepdims=True)\n",
    "\n",
    "    # Compute gradients for hidden layer\n",
    "    d_hidden = np.dot(d_output, W2.T) * sigmoid_derivative(hidden_output)\n",
    "    W1_grad = np.dot(X.T, d_hidden)\n",
    "    b1_grad = np.sum(d_hidden, axis=0, keepdims=True)\n",
    "\n",
    "    # ---- Update Weights and Biases ----\n",
    "    W2 += learning_rate * W2_grad\n",
    "    b2 += learning_rate * b2_grad\n",
    "    W1 += learning_rate * W1_grad\n",
    "    b1 += learning_rate * b1_grad\n",
    "\n",
    "    # Print loss every 1000 epochs\n",
    "    if epoch % 1000 == 0:\n",
    "        print(f\"Epoch {epoch}, Loss: {loss:.5f}\")\n"
   ]
  },
  {
   "cell_type": "code",
   "execution_count": 5,
   "metadata": {},
   "outputs": [
    {
     "name": "stdout",
     "output_type": "stream",
     "text": [
      "\n",
      "Final Predictions after training:\n",
      "[[0.01930908]\n",
      " [0.98334504]\n",
      " [0.98334712]\n",
      " [0.01718199]]\n"
     ]
    }
   ],
   "source": [
    "# ---- Testing the Trained Model ----\n",
    "print(\"\\nFinal Predictions after training:\")\n",
    "print(final_output)"
   ]
  },
  {
   "cell_type": "code",
   "execution_count": 6,
   "metadata": {},
   "outputs": [
    {
     "name": "stdout",
     "output_type": "stream",
     "text": [
      "\n",
      "Model Accuracy: 100.00%\n"
     ]
    }
   ],
   "source": [
    "# Convert probabilities to binary predictions (Threshold = 0.5)\n",
    "predictions = final_output >= 0.5  # True (1) if ≥ 0.5, else False (0)\n",
    "\n",
    "# Compute Accuracy\n",
    "accuracy = np.mean(predictions == y)\n",
    "print(f\"\\nModel Accuracy: {accuracy * 100:.2f}%\")\n"
   ]
  },
  {
   "cell_type": "code",
   "execution_count": null,
   "metadata": {},
   "outputs": [],
   "source": []
  }
 ],
 "metadata": {
  "kernelspec": {
   "display_name": "env",
   "language": "python",
   "name": "python3"
  },
  "language_info": {
   "codemirror_mode": {
    "name": "ipython",
    "version": 3
   },
   "file_extension": ".py",
   "mimetype": "text/x-python",
   "name": "python",
   "nbconvert_exporter": "python",
   "pygments_lexer": "ipython3",
   "version": "3.8.10"
  }
 },
 "nbformat": 4,
 "nbformat_minor": 2
}
